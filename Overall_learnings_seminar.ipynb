{
  "nbformat": 4,
  "nbformat_minor": 0,
  "metadata": {
    "colab": {
      "provenance": [],
      "authorship_tag": "ABX9TyMw76cACBysXF6XI549Gp4c",
      "include_colab_link": true
    },
    "kernelspec": {
      "name": "python3",
      "display_name": "Python 3"
    },
    "language_info": {
      "name": "python"
    }
  },
  "cells": [
    {
      "cell_type": "markdown",
      "metadata": {
        "id": "view-in-github",
        "colab_type": "text"
      },
      "source": [
        "<a href=\"https://colab.research.google.com/github/Loris997/Learning_portfolio/blob/main/Overall_learnings_seminar.ipynb\" target=\"_parent\"><img src=\"https://colab.research.google.com/assets/colab-badge.svg\" alt=\"Open In Colab\"/></a>"
      ]
    },
    {
      "cell_type": "markdown",
      "source": [
        "# **Short overall Learnings/impressions from the Seminar Digital Organization**\n",
        "\n",
        "The Seminar Digital organization was somewhat of a reach for me since I would consider myself as \"not the best coder in the world\". I think I had to spend over average time on re-reading lecture and watching additinal tutorials on Youtube. Nontheless the cours was very interesting and faszinating for me. Bevore this seminar I didn't really had any contact with Machine Learning, so I heard of most of the things but never really dealt with it.\n",
        "One thing I learnt during the course which was probably not the main focus was to work with google colab. I never used it before and realized, that it is handy to display coding projects for a presentation. I even used it in other courses during this semester.\n",
        "\n",
        "The first couple of weeks of the seminar were more or less easy to follow, but as further the course proceeded the complicater it got for me. Nonetheless I enjoyed working on the assignments, most of the times successful. To this stage of my studies I only had 2 courses which teached basic programming. Therefore I consider this the first course where somewhat of a bit advanceder coding skills were needed. Because I quite often struggled with the smooth running of the code I learnt to find ways how to fix bugs and get to the wanted solution.\n",
        "\n",
        "I especially liked the part with the recommender system. I used to work in an E-Commerce shop, but on the business side. I did then realize that they had somekind of system to recommend product to users, but never really understood how it worked. Now with the insights of the seminar I am able to understand how they used the system. They for sure used collaborative filtering to generat product suggestions based on similar users. Therefore the process of rating a product is even more important than just to display on the online-shop for other users. They used the rating  to generate the recommendations. Even if I wont be the person in a company who will code these recommender system or other Machine Learning tools, it will certainly help me to have the understanding of what is possible and a idea of how the things work. This will for sure help to communicate and adapt new tools.\n",
        "\n",
        "I will try to solidify the things I leant during the summer on new kaggle datasets, otherwise most of the stuff will be forgotten in less than a year."
      ],
      "metadata": {
        "id": "bkF0yPjD7VaL"
      }
    }
  ]
}
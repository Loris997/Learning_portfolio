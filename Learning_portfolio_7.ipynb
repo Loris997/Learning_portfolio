{
  "nbformat": 4,
  "nbformat_minor": 0,
  "metadata": {
    "colab": {
      "provenance": [],
      "authorship_tag": "ABX9TyOfV91uQSiOvhpBm2i9zJwc",
      "include_colab_link": true
    },
    "kernelspec": {
      "name": "python3",
      "display_name": "Python 3"
    },
    "language_info": {
      "name": "python"
    }
  },
  "cells": [
    {
      "cell_type": "markdown",
      "metadata": {
        "id": "view-in-github",
        "colab_type": "text"
      },
      "source": [
        "<a href=\"https://colab.research.google.com/github/Loris997/Learning_portfolio/blob/main/Learning_portfolio_7.ipynb\" target=\"_parent\"><img src=\"https://colab.research.google.com/assets/colab-badge.svg\" alt=\"Open In Colab\"/></a>"
      ]
    },
    {
      "cell_type": "markdown",
      "source": [
        "# **What is collaborative filtering?**\n",
        "Collaborative filtering is used to predict users preferences based on collaborative actions of multiple users. The main idea behind is that users which had similar preference in the past will have similar preferences in the future. A posible scope of application would be in an onlineshop where past purchase try to predict the future needs. \n",
        "# **What problem does collaborative filtering solve?**\n",
        "- Information overload: It tries to show only relevante suggestions to users. \n",
        "- Cold start: When a new users enters a platform there is no data about him. With collabrative filtering it is still possible to make recommendations based on the information available. \n",
        "\n",
        "# **What is a latent factor? Why is it \"latent\"?**\n",
        "Latent factors are hidden variable that captures the characteristics or attributes of users. The factor is latent because these factors are not explicitly provided in the data, they are learnd from user-item interactions.\n",
        "\n",
        "In the netflix example potential latent factors would be: \n",
        "- Genre\n",
        "- Complexity of the story\n",
        "\n",
        "# **What does pandas.DataFrame.merge do?**\n",
        "pandas.DataFrame.merge combines two or more DataFrames on a common column. \n",
        "\n",
        "In the followiong example we will se two small DataFrames which will be merged with pandas.DataFrame.merge."
      ],
      "metadata": {
        "id": "FfsEjViyUwTV"
      }
    },
    {
      "cell_type": "code",
      "source": [
        "import pandas as pd\n",
        "\n",
        "# First DaraFrame\n",
        "first_df = pd.DataFrame({'ID': [1, 2, 3, 4],\n",
        "                    'Name': ['Paul', 'Peter', 'Stefan', 'Klaus'],\n",
        "                    'Age': [15, 20, 25, 30]})\n",
        "\n",
        "print(first_df)\n",
        "print(\"------------------------------------------------------------------------------\")\n",
        "\n",
        "# Second DataFrame\n",
        "second_df = pd.DataFrame({'ID': [1, 2, 3, 4],\n",
        "                    'country of origin': ['Switzerland', 'Austria', 'USA', 'Italy'],\n",
        "                    'Language spoken': [\"French\", \"German\", \"English\", \"Italien\"]})\n",
        "\n",
        "print(second_df)\n",
        "print(\"------------------------------------------------------------------------------\")\n",
        "\n",
        "# Merge first DataFrame with second on ID\n",
        "merged_DataFrame = first_df.merge(second_df, on= \"ID\")\n",
        "\n",
        "print(merged_DataFrame)"
      ],
      "metadata": {
        "colab": {
          "base_uri": "https://localhost:8080/"
        },
        "id": "NXV6OeIWpdcN",
        "outputId": "7b58b705-cee8-4ce3-ee7e-fe22d5333650"
      },
      "execution_count": null,
      "outputs": [
        {
          "output_type": "stream",
          "name": "stdout",
          "text": [
            "   ID    Name  Age\n",
            "0   1    Paul   15\n",
            "1   2   Peter   20\n",
            "2   3  Stefan   25\n",
            "3   4   Klaus   30\n",
            "------------------------------------------------------------------------------\n",
            "   ID country of origin Language spoken\n",
            "0   1       Switzerland          French\n",
            "1   2           Austria          German\n",
            "2   3               USA         English\n",
            "3   4             Italy         Italien\n",
            "------------------------------------------------------------------------------\n",
            "   ID    Name  Age country of origin Language spoken\n",
            "0   1    Paul   15       Switzerland          French\n",
            "1   2   Peter   20           Austria          German\n",
            "2   3  Stefan   25               USA         English\n",
            "3   4   Klaus   30             Italy         Italien\n"
          ]
        }
      ]
    },
    {
      "cell_type": "markdown",
      "source": [
        "As we can see the two DataFrames are combined in the end. It is very similar to a join in SQL."
      ],
      "metadata": {
        "id": "MlWEprXTruVG"
      }
    },
    {
      "cell_type": "markdown",
      "source": [
        "# **What does x[:,0] return?**\n",
        "\n"
      ],
      "metadata": {
        "id": "fqoZ1b6_pcnd"
      }
    },
    {
      "cell_type": "markdown",
      "source": [
        "x[:,0] returns all elements of the first columd of a DataFrame \"x\". \n"
      ],
      "metadata": {
        "id": "14hmy4wssGR2"
      }
    },
    {
      "cell_type": "code",
      "source": [
        "from re import X\n",
        "import numpy as np\n",
        "\n",
        "x = pd.DataFrame({'A': [1, 2, 3],\n",
        "                   'B': [4, 5, 6],\n",
        "                   'C': [7, 8, 9]})\n",
        "\n",
        "print(x)\n",
        "print(\"-------------------------------------\")\n",
        "# Select the first column\n",
        "first_column = x.iloc[:,0]\n",
        "\n",
        "print(first_column)"
      ],
      "metadata": {
        "colab": {
          "base_uri": "https://localhost:8080/"
        },
        "id": "skrgU1FTsPjt",
        "outputId": "2c8efe9e-738c-4c7d-824b-ca3452feed74"
      },
      "execution_count": null,
      "outputs": [
        {
          "output_type": "stream",
          "name": "stdout",
          "text": [
            "   A  B  C\n",
            "0  1  4  7\n",
            "1  2  5  8\n",
            "2  3  6  9\n",
            "-------------------------------------\n",
            "0    1\n",
            "1    2\n",
            "2    3\n",
            "Name: A, dtype: int64\n"
          ]
        }
      ]
    },
    {
      "cell_type": "markdown",
      "source": [
        "# **What does argsort do in PyTorch?**"
      ],
      "metadata": {
        "id": "KEEKv1SPr-ql"
      }
    },
    {
      "cell_type": "markdown",
      "source": [
        "argsort() returns indices that would sort the tensor.  "
      ],
      "metadata": {
        "id": "r2tK20Z21mSN"
      }
    },
    {
      "cell_type": "code",
      "source": [
        "import torch\n",
        "\n",
        "# create tensor\n",
        "x = torch.tensor([5, 1, 4 , 2, 9])\n",
        "\n",
        "print(x)\n",
        "\n",
        "#sort tensor\n",
        "sorted_x = torch.argsort(x)\n",
        "\n",
        "print(sorted_x)"
      ],
      "metadata": {
        "colab": {
          "base_uri": "https://localhost:8080/"
        },
        "id": "mNRG7eu816ke",
        "outputId": "81004c5c-8827-4e88-8690-7e82e5769018"
      },
      "execution_count": 4,
      "outputs": [
        {
          "output_type": "stream",
          "name": "stdout",
          "text": [
            "tensor([5, 1, 4, 2, 9])\n",
            "tensor([1, 3, 2, 0, 4])\n"
          ]
        }
      ]
    },
    {
      "cell_type": "markdown",
      "source": [
        "So the sorted indices would sort the tensor in ascending order."
      ],
      "metadata": {
        "id": "uJ4Q-NNl65D0"
      }
    }
  ]
}